{
 "cells": [
  {
   "cell_type": "code",
   "execution_count": null,
   "id": "9b01c6a0",
   "metadata": {},
   "outputs": [],
   "source": [
    "# !pip install tensorflow-model-optimization\n",
    "# !pip install kornia\n",
    "# !pip install hls4ml"
   ]
  },
  {
   "cell_type": "code",
   "execution_count": 4,
   "id": "a4d8cfbe",
   "metadata": {},
   "outputs": [],
   "source": [
    "PATH_TO_TRAIN_DIR = \"./dataset/train\"\n",
    "PATH_TO_TEST_DIR = \"./dataset/test\"\n",
    "# PATH_TO_CKPT_DIR = \"./models/SpineNet-49S\" # Ensure This. If needed to be changed, modify first line of weights.py\n",
    "PATH_TO_MOD_DIR = \"./models\"\n",
    "ALPHA = 0.5"
   ]
  },
  {
   "cell_type": "code",
   "execution_count": 1,
   "id": "54b68055",
   "metadata": {},
   "outputs": [],
   "source": [
    "import os\n",
    "import tensorflow as tf\n",
    "import keras\n",
    "# import tensorflow.compat.v1 as tf\n",
    "from tensorflow.keras.preprocessing import image\n",
    "from tensorflow.keras.layers import Input, Conv2D, MaxPooling2D, concatenate, Flatten, Dense, UpSampling2D, BatchNormalization, Activation, Add, Concatenate\n",
    "from tensorflow.keras.models import Model, load_model\n",
    "import numpy as np\n",
    "\n",
    "# import tensorflow_model_optimization as tfmot\n",
    "keras.backend.clear_session()\n",
    "# import hls4ml\n",
    "#os.environ['PATH'] = os.environ['XILINX_VIVADO'] + '/bin:' + os.environ['PATH']\n",
    "os.environ['PATH'] = '/tools/Xilinx/Vivado/2019.1/bin:' + os.environ['PATH']\n",
    "\n",
    "import matplotlib.pyplot as plt\n",
    "import cv2\n",
    "import torchvision.transforms as transforms\n",
    "import gc\n",
    "gc.collect()\n",
    "\n",
    "\n",
    "from weights import *\n",
    "from spinenet_functions import *\n",
    "from student_teacher_functions import *\n",
    "from spinenet import SpineNet\n",
    "from student_teacher import Student, Teacher"
   ]
  },
  {
   "cell_type": "code",
   "execution_count": null,
   "id": "8b742f6f",
   "metadata": {},
   "outputs": [],
   "source": [
    "##FOR VIEWING CKPT FILE ##\n",
    "\n",
    "# for key,vale in shape.items():\n",
    "#     # print(key,\":\",vale)\n",
    "#     if key.startswith('retinanet'):\n",
    "#         print(key,\":\",vale)"
   ]
  },
  {
   "cell_type": "markdown",
   "id": "000ad376",
   "metadata": {},
   "source": [
    "## SpineNet"
   ]
  },
  {
   "cell_type": "code",
   "execution_count": 3,
   "id": "47b99512",
   "metadata": {},
   "outputs": [
    {
     "name": "stdout",
     "output_type": "stream",
     "text": [
      "before max pool 1 (None, 640, 640, 64)\n",
      "after max pool 2 (None, 640, 640, 64)\n",
      "after stem 0 (None, 320, 320, 164)\n",
      "after stem 1 (None, 320, 320, 164)\n",
      "after block 2 (None, 320, 320, 164)\n",
      "after block 3 (None, 80, 80, 166)\n",
      "after block 4 (None, 160, 160, 332)\n",
      "after block 5 (None, 80, 80, 664)\n",
      "after block 6 (None, 20, 20, 166)\n",
      "after block 7 (None, 80, 80, 664)\n",
      "after block 8 (None, 40, 40, 166)\n",
      "after block 9 (None, 10, 10, 166)\n",
      "after block 10 (None, 40, 40, 664)\n",
      "after block 11 (None, 40, 40, 664)\n",
      "after block 12 (None, 80, 80, 664)\n",
      "output 12 (None, 80, 80, 256)\n",
      "after block 13 (None, 160, 160, 332)\n",
      "output 13 (None, 160, 160, 256)\n",
      "after block 14 (None, 40, 40, 664)\n",
      "output 14 (None, 40, 40, 256)\n",
      "after block 15 (None, 10, 10, 664)\n",
      "output 15 (None, 10, 10, 256)\n",
      "after block 16 (None, 20, 20, 664)\n",
      "output 16 (None, 20, 20, 256)\n"
     ]
    }
   ],
   "source": [
    "keras.backend.clear_session()\n",
    "model = SpineNet()\n",
    "model.compile()\n",
    "model.save(PATH_TO_MOD_DIR+'/SpineNet49S.h5', save_format = 'h5')"
   ]
  },
  {
   "cell_type": "code",
   "execution_count": null,
   "id": "40e8dbdc",
   "metadata": {},
   "outputs": [],
   "source": [
    "#### RUN IF SPINENET49S ALREADY SAVED ####\n",
    "model = keras.models.load_model(PATH_TO_MOD_DIR+'/SpineNet49S.h5')"
   ]
  },
  {
   "cell_type": "markdown",
   "id": "b08b7574",
   "metadata": {},
   "source": [
    "## STUDENT & TEACHER"
   ]
  },
  {
   "cell_type": "code",
   "execution_count": null,
   "id": "76ffe775",
   "metadata": {},
   "outputs": [],
   "source": [
    "keras.backend.clear_session()\n",
    "student = Student()\n",
    "student.compile()\n",
    "student.save(PATH_TO_MOD_DIR+'/Student.h5', save_format = 'h5')\n",
    "\n",
    "keras.backend.clear_session()\n",
    "teacher = Teacher()\n",
    "teacher.compile()\n",
    "teacher.save(PATH_TO_MOD_DIR+'/Teacher.h5', save_format = 'h5')"
   ]
  },
  {
   "cell_type": "code",
   "execution_count": null,
   "id": "3cf50877",
   "metadata": {},
   "outputs": [],
   "source": [
    "#### RUN IF STUDENT+TEACHER ALREADY SAVED ####\n",
    "student = keras.models.load_model(PATH_TO_MOD_DIR+'/Student.h5')\n",
    "teacher = keras.models.load_model(PATH_TO_MOD_DIR+'/Teacher.h5')"
   ]
  },
  {
   "cell_type": "markdown",
   "id": "316d519a",
   "metadata": {},
   "source": [
    "## DATA"
   ]
  },
  {
   "cell_type": "code",
   "execution_count": null,
   "id": "e33cac6d",
   "metadata": {},
   "outputs": [],
   "source": [
    "x_train = []\n",
    "\n",
    "for dirpath, dirnames, filenames in os.walk(PATH_TO_TRAIN_DIR):\n",
    "    for file in filenames:\n",
    "        # if file.lower().endswith(('.png')):\n",
    "        path = os.path.join(dirpath, file)\n",
    "        img = cv2.imread(path)\n",
    "        img = cv2.cvtColor(img, cv2.COLOR_BGR2RGB)\n",
    "        img = cv2.resize(img, (640,640))\n",
    "        # img = cv2.normalize(img, None, 0, 1.0,\n",
    "        # cv2.NORM_MINMAX, dtype=cv2.CV_32F)\n",
    "        # img = transforms.ToTensor()(img)\n",
    "        x_train.append(img)\n",
    "        del img\n",
    "    gc.collect()\n",
    "\n",
    "x_train = np.array(x_train)"
   ]
  },
  {
   "cell_type": "code",
   "execution_count": null,
   "id": "8ba7a599",
   "metadata": {},
   "outputs": [],
   "source": [
    "x_test = []\n",
    "\n",
    "for dirpath, dirnames, filenames in os.walk(PATH_TO_TEST_DIR):\n",
    "    for file in filenames:\n",
    "        # if file.lower().endswith(('.png')):\n",
    "        path = os.path.join(dirpath, file)\n",
    "        img = cv2.imread(path)\n",
    "        img = cv2.cvtColor(img, cv2.COLOR_BGR2RGB)\n",
    "        img = cv2.resize(img, (640,640))\n",
    "        # img = cv2.normalize(img, None, 0, 1.0,\n",
    "        # cv2.NORM_MINMAX, dtype=cv2.CV_32F)\n",
    "        # img = transforms.ToTensor()(img)\n",
    "        x_test.append(img)\n",
    "        del img\n",
    "    gc.collect()\n",
    "\n",
    "x_test = np.array(x_test)"
   ]
  },
  {
   "cell_type": "markdown",
   "id": "ad7fe8c4",
   "metadata": {},
   "source": [
    "## KNOWLEDGE DISTILLATION"
   ]
  },
  {
   "cell_type": "code",
   "execution_count": null,
   "id": "368c595d",
   "metadata": {},
   "outputs": [],
   "source": [
    "from kornia.losses import ssim_loss\n",
    "class Distiller(keras.Model):\n",
    "    def __init__(self, student, teacher):\n",
    "        super().__init__()\n",
    "        self.teacher = teacher\n",
    "        self.student = student\n",
    "\n",
    "    def compile(\n",
    "        self,\n",
    "        optimizer,\n",
    "        metrics,\n",
    "        student_loss_fn,\n",
    "        distillation_loss_fn,\n",
    "        alpha=0.1,\n",
    "        temperature=3,\n",
    "    ):\n",
    "\n",
    "        super().compile(optimizer=optimizer, metrics=metrics)\n",
    "        self.student_loss_fn = student_loss_fn\n",
    "        self.distillation_loss_fn = distillation_loss_fn\n",
    "        self.alpha = alpha\n",
    "        self.temperature = temperature\n",
    "\n",
    "    def compute_loss(\n",
    "        self, x=None, y=None, y_pred=None, sample_weight=None, allow_empty=False\n",
    "    ):\n",
    "        teacher_pred = self.teacher(x, training=False)\n",
    "        # teacher_pred = self.teacher.predict(x)\n",
    "\n",
    "        # student_loss = self.student_loss_fn(y, y_pred)\n",
    "\n",
    "        # distillation_loss = self.distillation_loss_fn(\n",
    "        #     ops.softmax(teacher_pred / self.temperature, axis=1),\n",
    "        #     ops.softmax(y_pred / self.temperature, axis=1),\n",
    "        #     window_size = 5\n",
    "        # ) * (self.temperature**2)\n",
    "\n",
    "        # teacher_pred = transforms.ToTensor()(tf.make_ndarray(teacher_pred))\n",
    "        # y_pred = transforms.ToTensor()(tf.make_ndarray(y_pred))\n",
    "\n",
    "        # print(teacher_pred)\n",
    "        # print(y_pred)\n",
    "\n",
    "        distillation_loss = self.distillation_loss_fn(\n",
    "            teacher_pred,\n",
    "            y_pred,\n",
    "            max_val = 255\n",
    "        )\n",
    "        # distillation_loss = tf.keras.losses.MSE(teacher_pred, y_pred)\n",
    "        # loss = self.alpha * student_loss + (1 - self.alpha) * distillation_loss\n",
    "        return distillation_loss\n",
    "\n",
    "    def call(self, x):\n",
    "        return self.student(x)"
   ]
  },
  {
   "cell_type": "code",
   "execution_count": null,
   "id": "ea7f19b9",
   "metadata": {},
   "outputs": [],
   "source": [
    "distiller = Distiller(student=student, teacher=teacher)\n",
    "distiller.compile(\n",
    "    optimizer=keras.optimizers.Adam(),\n",
    "    metrics='mse',\n",
    "    student_loss_fn=keras.losses.SparseCategoricalCrossentropy(from_logits=True),\n",
    "    distillation_loss_fn=tf.image.ssim\n",
    ")"
   ]
  },
  {
   "cell_type": "code",
   "execution_count": null,
   "id": "55e10053",
   "metadata": {},
   "outputs": [],
   "source": [
    "distiller.fit(x_train, epochs=10, batch_size = 1)"
   ]
  },
  {
   "cell_type": "code",
   "execution_count": null,
   "id": "0d1a1705",
   "metadata": {},
   "outputs": [],
   "source": [
    "distiller.student.save(PATH_TO_MOD_DIR+'/Student_trained.h5', save_format='h5')"
   ]
  },
  {
   "cell_type": "code",
   "execution_count": null,
   "id": "fe35c55f",
   "metadata": {},
   "outputs": [],
   "source": [
    "#### RUN IF STUDENT IS ALREADY TRAINED ####\n",
    "student_trained = keras.models.load_model(PATH_TO_MOD_DIR+'/Student_trained.h5')"
   ]
  },
  {
   "cell_type": "code",
   "execution_count": null,
   "id": "37b40964",
   "metadata": {},
   "outputs": [],
   "source": [
    "y_true = teacher.predict(x_test)\n",
    "y_pred = student_trained.predict(x_test)"
   ]
  },
  {
   "cell_type": "code",
   "execution_count": null,
   "id": "55d934a7",
   "metadata": {},
   "outputs": [],
   "source": [
    "### This returns an array of ssim losses for each image ###\n",
    "loss = tf.image.ssim(y_true, y_pred, 255)\n",
    "loss"
   ]
  }
 ],
 "metadata": {
  "kernelspec": {
   "display_name": "Python 3 (ipykernel)",
   "language": "python",
   "name": "python3"
  },
  "language_info": {
   "codemirror_mode": {
    "name": "ipython",
    "version": 3
   },
   "file_extension": ".py",
   "mimetype": "text/x-python",
   "name": "python",
   "nbconvert_exporter": "python",
   "pygments_lexer": "ipython3",
   "version": "3.8.9"
  }
 },
 "nbformat": 4,
 "nbformat_minor": 5
}
